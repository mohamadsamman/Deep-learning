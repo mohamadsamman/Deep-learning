{
  "cells": [
    {
      "cell_type": "markdown",
      "metadata": {
        "id": "BPbtmfqMqsVj"
      },
      "source": [
        "# Lab 4: Function approximation with a deep neural network"
      ]
    },
    {
      "cell_type": "markdown",
      "metadata": {
        "id": "Ze4-03KGq2Gx"
      },
      "source": [
        "**The goal of the lab is to approximate a piecewise function - composed of a constant piece and a sine piece - with a deep neural network. An expected result is to compare the quality of the approximation when the neural network is deep or shallow (only one hidden layer).**\n"
      ]
    },
    {
      "cell_type": "code",
      "execution_count": null,
      "metadata": {
        "id": "XSxuWuabouDj"
      },
      "outputs": [],
      "source": [
        "%matplotlib inline\n",
        "import numpy as np\n",
        "import matplotlib.pyplot as plt\n",
        "import torch\n"
      ]
    },
    {
      "cell_type": "markdown",
      "source": [
        "Some PyTorch operations may use random numbers internally. However, as long as torch.manual_seed() is set to a constant at the beginning of an application and all other sources of nondeterminism have been eliminated, the same series of random numbers will be generated each time the application is run in the same environment."
      ],
      "metadata": {
        "id": "1GIxtDi9OHF8"
      }
    },
    {
      "cell_type": "code",
      "source": [
        "torch.manual_seed(3000)"
      ],
      "metadata": {
        "id": "xHVIvCWeOJna"
      },
      "execution_count": null,
      "outputs": []
    },
    {
      "cell_type": "markdown",
      "metadata": {
        "id": "uYRSPAtGouDo"
      },
      "source": [
        "Define and plot a sine function (in fact, it is a sine wave starting only from $x=0$; it is zero for negative $x$)"
      ]
    },
    {
      "cell_type": "code",
      "execution_count": null,
      "metadata": {
        "id": "JhCmQNviouDu"
      },
      "outputs": [],
      "source": [
        "# Create Tensors to hold inputs and outputs\n",
        "N = 40 # number of training samples\n",
        "xmin = -3\n",
        "xmax = 5\n",
        "xstep = (xmax-xmin)/N\n",
        "x = torch.arange(xmin,xmax,xstep).view(-1,1)\n",
        "y = torch.sin(2*torch.pi*0.3*x)\n",
        "y = torch.where(x < 0, torch.zeros_like(x), y)"
      ]
    },
    {
      "cell_type": "code",
      "execution_count": null,
      "metadata": {
        "colab": {
          "base_uri": "https://localhost:8080/"
        },
        "id": "8Upa4fCuouD5",
        "outputId": "00225a7e-ec6f-4c0e-8739-f4be1b88f9a7"
      },
      "outputs": [
        {
          "output_type": "stream",
          "name": "stdout",
          "text": [
            "torch.Size([40, 1])\n",
            "torch.Size([40, 1])\n"
          ]
        }
      ],
      "source": [
        "print(x.size())\n",
        "print(y.size())\n"
      ]
    },
    {
      "cell_type": "markdown",
      "metadata": {
        "id": "IY7bxmOpsRYq"
      },
      "source": [
        "Converting Torch Tensor to NumPy Array for plotting the function"
      ]
    },
    {
      "cell_type": "code",
      "execution_count": null,
      "metadata": {
        "colab": {
          "base_uri": "https://localhost:8080/",
          "height": 472
        },
        "id": "L80Arv5FuLj-",
        "outputId": "f8869499-1a84-4a8f-cef8-e166ec0dce5f"
      },
      "outputs": [
        {
          "output_type": "display_data",
          "data": {
            "text/plain": [
              "<Figure size 640x480 with 1 Axes>"
            ],
            "image/png": "[encoded data removed]"
          },
          "metadata": {}
        }
      ],
      "source": [
        "fig, ax = plt.subplots()\n",
        "plt.plot(x.numpy(), y.numpy(),'r-x',label='Sine function')\n",
        "plt.xlabel('$x$')\n",
        "plt.ylabel('$f(x)$')\n",
        "plt.title('Train samples')\n",
        "plt.show()\n",
        "ax.legend()\n",
        "plt.show()"
      ]
    },
    {
      "cell_type": "markdown",
      "metadata": {
        "id": "8tJWe_-W1khM"
      },
      "source": [
        "### Question 1: code a deep neural network to approximate the function. The network will have 3 full-connected layers (each full-connected layer is followed by a ReLU activation function) and a final full-connected layer without any activation function (i.e., a total of 4 layers). Each layer has 20 neurons. You will use the Adam optimizer. Choose the most appropriate loss function. You must compute the loss at each epoch; 2000 epochs should be enough to get a satisfying convergence."
      ]
    },
    {
      "cell_type": "code",
      "execution_count": null,
      "metadata": {
        "id": "IWija8I3ouDy"
      },
      "outputs": [],
      "source": [
        "# Write your code here\n"
      ]
    },
    {
      "cell_type": "markdown",
      "metadata": {
        "id": "VW-RbXaP2OrE"
      },
      "source": [
        "### Question 2: Plot the training error of the deep network as a function of the epoch. Discuss the shape of the curve."
      ]
    },
    {
      "cell_type": "code",
      "execution_count": null,
      "metadata": {
        "id": "aam3YN7VouD-"
      },
      "outputs": [],
      "source": [
        "# Write your code here\n"
      ]
    },
    {
      "cell_type": "markdown",
      "metadata": {
        "id": "FnjcbWrJ0CV3"
      },
      "source": [
        "### Question 3: plot on the same graph the sine function and its approximation. Discuss the quality of the approximation."
      ]
    },
    {
      "cell_type": "code",
      "execution_count": null,
      "metadata": {
        "id": "AnvnNn-touEB",
        "scrolled": true
      },
      "outputs": [],
      "source": [
        "# Write your code here\n"
      ]
    },
    {
      "cell_type": "markdown",
      "metadata": {
        "id": "enexSVgwHRcB"
      },
      "source": [
        "### Question 4: Generate Ntest=200 test samples regularly spaced between xmin and xmax."
      ]
    },
    {
      "cell_type": "code",
      "execution_count": null,
      "metadata": {
        "id": "LPuu1BxlEAzd"
      },
      "outputs": [],
      "source": [
        "# Write your code here\n"
      ]
    },
    {
      "cell_type": "markdown",
      "metadata": {
        "id": "n4oSp1_FH_pP"
      },
      "source": [
        "### Question 5: plot the sine function for the test samples."
      ]
    },
    {
      "cell_type": "code",
      "execution_count": null,
      "metadata": {
        "id": "9Vo7J535FRAY"
      },
      "outputs": [],
      "source": [
        "# Write your code here\n"
      ]
    },
    {
      "cell_type": "markdown",
      "metadata": {
        "id": "Ll5ium_cH9ZA"
      },
      "source": [
        "### Question 6: compare the training loss (computed on the training samples) and the test loss (computed on the test samples)."
      ]
    },
    {
      "cell_type": "code",
      "execution_count": null,
      "metadata": {
        "id": "dZMhoNbrFhUo"
      },
      "outputs": [],
      "source": [
        "# Write your code here\n"
      ]
    },
    {
      "cell_type": "markdown",
      "metadata": {
        "id": "_MpXhTY1rwGE"
      },
      "source": [
        "### Question 7: code a short function \"count_parameters(model)\" to count the parameters in your neural network \"model\"."
      ]
    },
    {
      "cell_type": "code",
      "execution_count": null,
      "metadata": {
        "id": "OhpZsJxeouD1"
      },
      "outputs": [],
      "source": [
        "# Write your code here\n"
      ]
    },
    {
      "cell_type": "markdown",
      "metadata": {
        "id": "PGwnXCSR3T_4"
      },
      "source": [
        "### Question 8: print the number of parameters in your deep neural network (just use your function \"count_parameters(model)\"). Show that the result is correct by calculating explictly the number of parameters of your model."
      ]
    },
    {
      "cell_type": "code",
      "execution_count": null,
      "metadata": {
        "id": "xsEJhkeUr107"
      },
      "outputs": [],
      "source": [
        "# Write your code here\n"
      ]
    },
    {
      "cell_type": "markdown",
      "metadata": {
        "id": "iwoSChjz2fuE"
      },
      "source": [
        "### Question 9: code and train a one-hidden layer neural network with the same number of parameters than the multilayer neural network. Write an equation that calculates the number of parameters of your shallow network."
      ]
    },
    {
      "cell_type": "code",
      "execution_count": null,
      "metadata": {
        "id": "Qw_JwF-42set"
      },
      "outputs": [],
      "source": [
        "# Write your code here\n"
      ]
    },
    {
      "cell_type": "markdown",
      "metadata": {
        "id": "SkF7dJDrnozT"
      },
      "source": [
        "### Question 10: print the number of parameters in your shallow neural network (just use your function \"count_parameters(model)\")."
      ]
    },
    {
      "cell_type": "code",
      "execution_count": null,
      "metadata": {
        "id": "BgLza2m9vFtM"
      },
      "outputs": [],
      "source": [
        "# Write your code here\n"
      ]
    },
    {
      "cell_type": "markdown",
      "metadata": {
        "id": "P742GFDnx6q6"
      },
      "source": [
        "### Question 11: Plot the training error of the shallow network as a function of the epoch. Discuss the shape of the curve."
      ]
    },
    {
      "cell_type": "code",
      "execution_count": null,
      "metadata": {
        "id": "dqAIcfXpxuLL"
      },
      "outputs": [],
      "source": [
        "# Write your code here\n"
      ]
    },
    {
      "cell_type": "markdown",
      "metadata": {
        "id": "lil-Kz2gJC_G"
      },
      "source": [
        "### Question 12: compare the training loss (computed on training samples) and the test loss (computed on test samples) of the shallow network."
      ]
    },
    {
      "cell_type": "code",
      "execution_count": null,
      "metadata": {
        "id": "yAXb7i-OGkt8"
      },
      "outputs": [],
      "source": [
        "# Write your code here\n"
      ]
    },
    {
      "cell_type": "markdown",
      "metadata": {
        "id": "llxpXLeG449E"
      },
      "source": [
        "### Question 13: plot on the same graph the sine function and its two approximations (deep and shallow). Compare the two approximations."
      ]
    },
    {
      "cell_type": "code",
      "execution_count": null,
      "metadata": {
        "id": "fY4nUy-13H1e"
      },
      "outputs": [],
      "source": [
        "# Write your code here\n"
      ]
    },
    {
      "cell_type": "markdown",
      "metadata": {
        "id": "Ba0TH-gCnH8I"
      },
      "source": [
        "### Question 14: Conclusion: what is the best approximation? Why?"
      ]
    },
    {
      "cell_type": "markdown",
      "metadata": {
        "id": "aMCJVXMpnLn9"
      },
      "source": [
        "Write your answer here."
      ]
    }
  ],
  "metadata": {
    "colab": {
      "provenance": [],
      "toc_visible": true
    },
    "kernelspec": {
      "display_name": "Python 3 (ipykernel)",
      "language": "python",
      "name": "python3"
    },
    "language_info": {
      "codemirror_mode": {
        "name": "ipython",
        "version": 3
      },
      "file_extension": ".py",
      "mimetype": "text/x-python",
      "name": "python",
      "nbconvert_exporter": "python",
      "pygments_lexer": "ipython3",
      "version": "3.8.12"
    }
  },
  "nbformat": 4,
  "nbformat_minor": 0
}